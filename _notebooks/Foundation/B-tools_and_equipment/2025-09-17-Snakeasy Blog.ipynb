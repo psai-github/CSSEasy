{
 "cells": [
  {
   "cell_type": "code",
   "execution_count": 2,
   "id": "edc9c167",
   "metadata": {},
   "outputs": [
    {
     "ename": "SyntaxError",
     "evalue": "invalid syntax (537168135.py, line 1)",
     "output_type": "error",
     "traceback": [
      "  \u001b[36mCell\u001b[39m\u001b[36m \u001b[39m\u001b[32mIn[2]\u001b[39m\u001b[32m, line 1\u001b[39m\n\u001b[31m    \u001b[39m\u001b[31m---\u001b[39m\n       ^\n\u001b[31mSyntaxError\u001b[39m\u001b[31m:\u001b[39m invalid syntax\n"
     ]
    }
   ],
   "source": [
    "---\n",
    "layout: blog\n",
    "title: Snakeasy Game Blog\n",
    "description: This page will show you the changes made to the Snakeasy game.\n",
    "---"
   ]
  },
  {
   "cell_type": "markdown",
   "id": "79a44453",
   "metadata": {},
   "source": [
    "Hello everyone. We have chosen games to add some changes to make it more personal to us. We have chosen the poular game called snake and we decided to call it Snakeasy.\n",
    "\n",
    "I wanted to give the simple game a fresh and customized look. I therefore thought of changing a few key elements to provide it with a different appearance and enhance its appeal. I shall demonstrate how I did it in Java. \n",
    "\n",
    "Changing the Colors\n",
    "\n",
    "The majority of default colors used in tutorials are simply black and white. I did not want my game to be typical, so I applied a strong contrasting color theme. The essence of these changes is the implementation of the Color class in the Abstract Window Toolkit (AWT) of Java.\n",
    "\n",
    "First, we'll talk about the snake. I desired a classic, vibrant green. To change the color of the snake, I found the area of the code that draws the segments of the body of the snake. Next, before drawing each segment, I invoked g.setColor(Color.GREEN). The g in this case is a Graphics object, which is used for drawing.\n",
    "\n",
    "For the background, I chose a blue color, I looked for the section of code that colors the background of the game panel. Before filling it, I used g.setColor(Color.BLUE) to color the background blue.\n",
    "\n",
    "Finally, the apple. The snake's meal had to be salient, so I painted it red. I followed the same routine as with the snake and located the code to draw the apple and added g.setColor(Color.RED) just before it was drawn.\n",
    "\n",
    "Naming the Game\n",
    "\n",
    "No project is complete without a good name. I brainstormed a few and settled on Snakeasy. It's a nice, catchy name that reflects the simplicity of the game. I renamed the title of the window in the main game class to agree with this new name using a line like frame.setTitle(\"Snakeasy\");"
   ]
  },
  {
   "cell_type": "markdown",
   "id": "1308365a",
   "metadata": {},
   "source": [
    "---"
   ]
  }
 ],
 "metadata": {
  "kernelspec": {
   "display_name": "venv",
   "language": "python",
   "name": "python3"
  },
  "language_info": {
   "codemirror_mode": {
    "name": "ipython",
    "version": 3
   },
   "file_extension": ".py",
   "mimetype": "text/x-python",
   "name": "python",
   "nbconvert_exporter": "python",
   "pygments_lexer": "ipython3",
   "version": "3.13.7"
  }
 },
 "nbformat": 4,
 "nbformat_minor": 5
}
