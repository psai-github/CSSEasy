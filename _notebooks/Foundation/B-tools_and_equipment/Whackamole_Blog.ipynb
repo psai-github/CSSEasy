{
 "cells": [
  {
   "cell_type": "code",
   "execution_count": null,
   "id": "edc9c167",
   "metadata": {},
   "outputs": [
    {
     "ename": "SyntaxError",
     "evalue": "invalid syntax (537168135.py, line 1)",
     "output_type": "error",
     "traceback": [
      "  \u001b[36mCell\u001b[39m\u001b[36m \u001b[39m\u001b[32mIn[2]\u001b[39m\u001b[32m, line 1\u001b[39m\n\u001b[31m    \u001b[39m\u001b[31m---\u001b[39m\n       ^\n\u001b[31mSyntaxError\u001b[39m\u001b[31m:\u001b[39m invalid syntax\n"
     ]
    }
   ],
   "source": [
    "---\n",
    "layout: blog\n",
    "title: Whackamole Game Blog\n",
    "description: This page will show you the changes made to the Snakeasy game.\n",
    "---"
   ]
  },
  {
   "cell_type": "markdown",
   "id": "79a44453",
   "metadata": {},
   "source": [
    "Hey everyone! As a coder, there’s nothing more fun than taking a classic game and giving it your own twist. Today, I’m excited to share a project I’ve been working on: my version of Whack-a-Mole, which I call Whack-a-Mole+.\n",
    "\n",
    "I wanted to take the original idea—smack the moles when they pop up—and make it more exciting with power-ups, bombs, a combo system, and some fresh visuals. I built the whole thing in JavaScript using Object-Oriented Programming (OOP).\n",
    "\n",
    "Adding the Mole Types\n",
    "\n",
    "The first big change was adding different types of moles:\n",
    "\n",
    "A normal green mole gives you +10 points.\n",
    "\n",
    "A golden mole is rare but worth +30.\n",
    "\n",
    "A bomb mole looks scary and costs you a life if you hit it.\n",
    "\n",
    "I made these different by creating a Mole class that checks the type of the mole and then decides what happens when you hit it. For example, in the onHit() function, a normal mole adds 10 points, a golden adds 30, and a bomb takes away a life.\n",
    "\n",
    "Power-Ups for Extra Fun\n",
    "\n",
    "To spice things up, I added power-ups:\n",
    "\n",
    "A pink circle that doubles your points for 5 seconds.\n",
    "\n",
    "A blue circle that gives you an extra life.\n",
    "\n",
    "These are handled in a separate PowerUp class, which makes the code clean and easy to manage. When you hit a power-up, the game calls a function like activateMultiplier() or just adds a life.\n",
    "\n",
    "Making It Look Better\n",
    "\n",
    "The original canvas was pretty plain, so I gave it some style:\n",
    "\n",
    "A grassy background using gradients.\n",
    "\n",
    "Shaded dirt holes so the moles look like they’re popping out of the ground.\n",
    "\n",
    "Cute mole faces with eyes and a nose (except for the bomb, which shows a 💣 emoji).\n",
    "\n",
    "These little touches make the game feel way more alive.\n",
    "\n",
    "Keeping Score and Difficulty\n",
    "\n",
    "I also added a HUD (Heads-Up Display) that shows:\n",
    "\n",
    "Score\n",
    "\n",
    "High Score\n",
    "\n",
    "Lives\n",
    "\n",
    "Multiplier\n",
    "\n",
    "The high score is saved in localStorage, so it stays even if you close the browser. And as you earn more points, the game makes moles appear faster, which keeps it challenging."
   ]
  },
  {
   "cell_type": "markdown",
   "id": "1308365a",
   "metadata": {},
   "source": [
    "---"
   ]
  }
 ],
 "metadata": {
  "kernelspec": {
   "display_name": "venv",
   "language": "python",
   "name": "python3"
  },
  "language_info": {
   "codemirror_mode": {
    "name": "ipython",
    "version": 3
   },
   "file_extension": ".py",
   "mimetype": "text/x-python",
   "name": "python",
   "nbconvert_exporter": "python",
   "pygments_lexer": "ipython3",
   "version": "3.13.7"
  }
 },
 "nbformat": 4,
 "nbformat_minor": 5
}
