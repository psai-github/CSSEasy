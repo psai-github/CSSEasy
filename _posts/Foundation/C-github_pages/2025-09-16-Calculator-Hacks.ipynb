{
 "cells": [
  {
   "cell_type": "markdown",
   "id": "6ee702a4",
   "metadata": {},
   "source": [
    "---\n",
    "title: JS Calculator\n",
    "comments: true\n",
    "hide: true\n",
    "layout: base\n",
    "description: A common way to become familiar with a language is to build a calculator.  This calculator shows off button with actions.\n",
    "permalink: /calculator\n",
    "---"
   ]
  },
  {
   "cell_type": "markdown",
   "id": "89b3e6e8",
   "metadata": {},
   "source": [
    "This notebook explains which parts of `calculator.md` allows the hacks to work."
   ]
  },
  {
   "cell_type": "markdown",
   "id": "9e12f649",
   "metadata": {},
   "source": [
    "To begin, copy the file from the pages repo, and add it into this repo. Next, add this code piece to it to make it visible. Format in accordingly. "
   ]
  },
  {
   "cell_type": "markdown",
   "id": "f3d54328",
   "metadata": {},
   "source": [
    "Lets start with the first Hack. Lets first add a UI and then lets fix the issue with decimal computation."
   ]
  },
  {
   "cell_type": "markdown",
   "id": "ffb0d28a",
   "metadata": {},
   "source": [
    "**Hack 1 — Create the UI**\n",
    "\n",
    "I created a simple calculator UI using a grid of divs and a top output area. Key parts I added:\n",
    "\n",
    "- HTML structure: a container with the class `calculator-container` containing the output `div` and the buttons as `div` elements.\n",
    "- Buttons: number buttons use `class=\"calculator-number\"`, operations use `class=\"calculator-operation\"`, clear uses `class=\"calculator-clear\"`, and equals uses `class=\"calculator-equals\"`.\n",
    "- Output area: a `div` with `class=\"calculator-output\"` and `id=\"output\"` to show the current value.\n",
    "- Styling: added CSS for `.calculator-output` to span four columns, set padding, font-size and border to make the display prominent.\n",
    "- JS wiring: used `document.querySelectorAll` to select button groups and attached `click` listeners that call `number()`, `operation()` and `equal()` functions.\n",
    "\n",
    "Decimal support included in the UI hack:\n",
    "\n",
    "- Added a decimal button as ` <div class=\"calculator-number\">.</div> ` so users can input decimal points directly from the UI.\n",
    "- The `number()` function has a special case for `\".\"` which prevents multiple decimals (`output.innerHTML.indexOf(\".\") == -1`), appends the decimal to the display, and sets `nextReady = false` so input continues.\n",
    "- During calculations the code uses `parseFloat(output.innerHTML)` to convert the display string into a floating point number for arithmetic.\n",
    "\n",
    "Example of the HTML I added:\n",
    "\n",
    "<div class=\"calculator-container\">\n",
    "  <div class=\"calculator-output\" id=\"output\">0</div>\n",
    "  <div class=\"calculator-number\">1</div>\n",
    "  <div class=\"calculator-number\">2</div>\n",
    "  <div class=\"calculator-number\">3</div>\n",
    "  <div class=\"calculator-operation\">+</div>\n",
    "  <!-- ... other buttons ... -->\n",
    "</div>\n",
    "\n",
    "Example of the JavaScript wiring I added:\n",
    "\n",
    "const numbers = document.querySelectorAll(\".calculator-number\");\n",
    "numbers.forEach(button => {\n",
    "  button.addEventListener(\"click\", function() {\n",
    "    number(button.textContent);\n",
    "  });\n",
    "});\n",
    "\n",
    "This gave a visible, clickable UI so users can input numbers and operations."
   ]
  },
  {
   "cell_type": "markdown",
   "id": "1df70565",
   "metadata": {},
   "source": [
    "Now, let's work on Hack 2. The calculator is missing the ability to perform division."
   ]
  },
  {
   "cell_type": "markdown",
   "id": "6939ea15",
   "metadata": {},
   "source": [
    "**Hack 2 — Division added**\n",
    "\n",
    "I added a division key to the UI so users can perform division directly.\n",
    "\n",
    "- Change: inserted `<div class=\"calculator-operation\">/</div>` in the HTML next to the `*` button.\n",
    "- Logic: the `calculate()` function already supported the `/` operator (`case \"/\": result = first / second;`). No JS logic changes were needed.\n",
    "- Test: open the page, click `8`, `÷` (the `/` key), `2`, and `=` — result should show `4`. Also verified decimals still work (e.g., `5.5 / 2 = 2.75`).\n",
    "\n",
    "This completes Hack 2's UI improvements and adds division support."
   ]
  },
  {
   "cell_type": "markdown",
   "id": "7258f61c",
   "metadata": {},
   "source": [
    "**Hack 3 — Square root (√)**\n",
    "\n",
    "I added a square-root operation to the calculator UI and JS logic.\n",
    "\n",
    "- HTML: added the `√` button in the last row as `<div class=\"calculator-operation\">√</div>`.\n",
    "- JS: updated `operation(choice)` to handle the `\"√\"` choice immediately by:\n",
    "  - Parsing the current displayed value with `parseFloat(output.innerHTML)`.\n",
    "  - Computing `Math.sqrt(value)` and updating `output.innerHTML` with the result.\n",
    "  - Storing the result into `firstNumber` and resetting `operator`.\n",
    "\n",
    "Code snippet added to `hacks/calculator.md`:\n",
    "\n",
    "function operation (choice) {\n",
    "  if (choice === \"√\") {\n",
    "    const value = parseFloat(output.innerHTML);\n",
    "    const sqrtResult = Math.sqrt(value);\n",
    "    output.innerHTML = sqrtResult.toString();\n",
    "    firstNumber = sqrtResult;\n",
    "    nextReady = true;\n",
    "    operator = null;\n",
    "    return;\n",
    "  }\n",
    "  // ...existing operation handling...\n",
    "}\n",
    "\n",
    "Test: click `9` then `√` — the display should update to `3`.\n",
    "\n",
    "This completes Hack 3."
   ]
  },
  {
   "cell_type": "code",
   "execution_count": null,
   "id": "2e9d298a",
   "metadata": {
    "vscode": {
     "languageId": "plaintext"
    }
   },
   "outputs": [],
   "source": [
    "This completes the hacks and shows a finished calculator. This shows that I have an understanding of the code as I added division button, decimal calculator and square root button was added to the calculator."
   ]
  }
 ],
 "metadata": {
  "language_info": {
   "name": "python"
  }
 },
 "nbformat": 4,
 "nbformat_minor": 5
}
